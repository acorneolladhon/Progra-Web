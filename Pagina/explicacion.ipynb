{
 "cells": [
  {
   "cell_type": "markdown",
   "id": "516a088c",
   "metadata": {},
   "source": [
    "## RESUMEN DEL ARCHIVO index.html Y EXPLICACIÓN DE CADA SECCIÓN\n",
    "\n",
    "index.html es el archivo principal que muestra la web en el navegador. Contiene:\n",
    "\n",
    "- <!DOCTYPE html>: le indica al navegador que es HTML5\n",
    "\n",
    "- <html lang=\"es\">: idioma de la página\n",
    "\n",
    "- <head>: información invisible (título, codificación, responsive)\n",
    "\n",
    "- <title>: nombre de la página en la pestaña\n",
    "\n",
    "- <body>: todo lo visible para el usuario\n",
    "\n",
    "### Estructura interna del body:\n",
    "\n",
    "- <header> y <nav>: barra de navegación\n",
    "\n",
    "- <main>: contenido central: título, foto, listas, tabla, formulario\n",
    "\n",
    "- <form>: tiene varios input (nombre, mail, contraseña) y button\n",
    "\n",
    "- <script src=\"script.js\">: conecta JS al final (para que cargue luego del HTML)\n",
    "\n",
    "\n",
    "### Futuras cosas que se pueden agregar:\n",
    "\n",
    "Nuevas secciones dentro de <main>\n",
    "\n",
    "Estilo con <link rel=\"stylesheet\" href=\"style.css\"> en el <head>\n",
    "\n",
    "Lógica avanzada en script.js (como guardar datos, validar, mostrar resultados)\n",
    "\n"
   ]
  }
 ],
 "metadata": {
  "language_info": {
   "name": "python"
  }
 },
 "nbformat": 4,
 "nbformat_minor": 5
}
